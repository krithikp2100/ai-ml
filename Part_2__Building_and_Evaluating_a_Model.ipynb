{
  "nbformat": 4,
  "nbformat_minor": 0,
  "metadata": {
    "colab": {
      "provenance": [],
      "gpuType": "T4",
      "include_colab_link": true
    },
    "kernelspec": {
      "name": "python3",
      "display_name": "Python 3"
    },
    "language_info": {
      "name": "python"
    }
  },
  "cells": [
    {
      "cell_type": "markdown",
      "metadata": {
        "id": "view-in-github",
        "colab_type": "text"
      },
      "source": [
        "<a href=\"https://colab.research.google.com/github/krithikp2100/ai-ml/blob/main/Part_2__Building_and_Evaluating_a_Model.ipynb\" target=\"_parent\"><img src=\"https://colab.research.google.com/assets/colab-badge.svg\" alt=\"Open In Colab\"/></a>"
      ]
    },
    {
      "cell_type": "markdown",
      "metadata": {
        "id": "iEKSC-DdOLu6"
      },
      "source": [
        "<font color=\"#de3023\"><h1><b>🚨 REMINDER: MAKE A COPY OF THIS NOTEBOOK, DO NOT EDIT 🚨</b></h1></font>\n",
        "\n",
        "<h2>Numerical Classification - Day 2</h2>\n",
        "\n",
        "<p style=\"font-size: 16px;\">\n",
        "Welcome to your second notebook, designed to take your Machine Learning skills to the next level. In this notebook, you’ll deepen your understanding of essential concepts, master the remaining steps for cleaning and formatting your dataset for machine learning, and ultimately build your very first model. Let’s get started on this exciting next chapter of your journey!\n",
        "</p>\n"
      ]
    },
    {
      "cell_type": "markdown",
      "metadata": {
        "id": "dIYw79SIhujj"
      },
      "source": [
        "# PART 1: Choosing Your Project\n",
        "\n",
        "<img src=\"https://drive.google.com/uc?export=view&id=1FGLwKxlZi7iuqD1MnwiuVHr2s9JYG4TT\" height=300>\n",
        "\n"
      ]
    },
    {
      "cell_type": "code",
      "source": [
        "# @title Import Packages\n",
        "\n",
        "%%capture\n",
        "\n",
        "# Data handling and visualization libraries\n",
        "import numpy as np\n",
        "import pandas as pd\n",
        "import seaborn as sns\n",
        "import matplotlib.pyplot as plt\n",
        "from collections import Counter\n",
        "from IPython.display import Markdown, display\n",
        "\n",
        "# Machine learning libraries\n",
        "from sklearn.model_selection import train_test_split\n",
        "from sklearn.metrics import accuracy_score, recall_score, precision_score, f1_score\n",
        "from sklearn.linear_model import LogisticRegression\n",
        "from sklearn.preprocessing import LabelEncoder\n",
        "from sklearn.metrics import confusion_matrix, ConfusionMatrixDisplay\n",
        "import matplotlib.pyplot as plt\n",
        "from sklearn.metrics import roc_curve, auc\n",
        "\n",
        "# TensorFlow and Keras for deep learning\n",
        "import tensorflow as tf\n",
        "from tensorflow.keras.layers import SimpleRNN, Dropout, LSTM, Dense, Input\n",
        "from tensorflow.keras import Sequential\n",
        "from tensorflow.keras.optimizers import Adam\n",
        "from tensorflow.keras.optimizers.schedules import ExponentialDecay"
      ],
      "metadata": {
        "id": "BMFxGyOK8bCz",
        "cellView": "form"
      },
      "execution_count": 7,
      "outputs": []
    },
    {
      "cell_type": "code",
      "source": [
        "%%capture\n",
        "\n",
        "# @title Project Selection\n",
        "Project = \"Salary Prediction\" # @param [\"Salary Prediction\",\"Heart Disease Detection\",\"Weather Classification\"]\n",
        "\n",
        "def preprocess_data(project):\n",
        "    project_configs = {\n",
        "        \"Salary Prediction\": {\n",
        "            \"url\": \"https://drive.google.com/uc?id=154i4ydw8b6BApwhFl_Efa8EokK-5WNWe\",\n",
        "            \"label_column\": \"income\",\n",
        "            \"sample\": True\n",
        "        },\n",
        "        \"Heart Disease Detection\": {\n",
        "            \"url\": \"https://drive.google.com/uc?id=1T5jPh95FWdo89xV28RoWNqjpefv_9prN\",\n",
        "            \"label_column\": \"Heart Disease\",\n",
        "            \"fill_na\": {\"Alcohol Intake\": \"None\"},\n",
        "            \"sample\": False\n",
        "        },\n",
        "        \"Weather Classification\": {\n",
        "            \"url\": \"https://drive.google.com/uc?id=1ahDAdF0inxcd6LbHIwyIxAAmWcIsVx3_\",\n",
        "            \"label_column\": \"Weather Type\",\n",
        "            \"sample\": True\n",
        "        }\n",
        "    }\n",
        "\n",
        "    config = project_configs[project]\n",
        "    df = pd.read_csv(config[\"url\"])\n",
        "    df.rename(columns={config[\"label_column\"]: \"label\"}, inplace=True)\n",
        "\n",
        "    if config.get(\"fill_na\"):\n",
        "        for col, value in config[\"fill_na\"].items():\n",
        "            df[col] = df[col].fillna(value)\n",
        "\n",
        "    if config[\"sample\"]:\n",
        "        df = df[~df.isin(['?']).any(axis=1)]\n",
        "        sampled_df = pd.DataFrame()\n",
        "        for cls in df[\"label\"].unique():\n",
        "            sampled_df = pd.concat(\n",
        "                [sampled_df, df[df[\"label\"] == cls].sample(n=600, replace=False, random_state=42)],\n",
        "                axis=0\n",
        "            )\n",
        "        df = sampled_df.reset_index(drop=True)\n",
        "\n",
        "    categorical_cols = df.select_dtypes(include=['object', 'category']).columns\n",
        "    label_encoders = {col: LabelEncoder() for col in categorical_cols}\n",
        "    for col, le in label_encoders.items():\n",
        "        df[col] = le.fit_transform(df[col])\n",
        "\n",
        "    return df, label_encoders\n",
        "\n",
        "df, label_encoders = preprocess_data(Project)"
      ],
      "metadata": {
        "id": "o0sVbAJG68O0",
        "cellView": "form"
      },
      "execution_count": 8,
      "outputs": []
    },
    {
      "cell_type": "markdown",
      "source": [
        "# PART VI: Training a model\n",
        "\n",
        "<img src=\"https://drive.google.com/uc?export=view&id=1xpMpHQwgrs6c6Yn3hLX4n1GPiuBZARfM\" height=400>"
      ],
      "metadata": {
        "id": "ZMPNnmuK2OI-"
      }
    },
    {
      "cell_type": "markdown",
      "source": [
        "## 🔢 Convert your labels to one-hot-encodings\n",
        "\n",
        "\n",
        "Different machine learning models require labels to be in specific formats. Behind the scenes, these models perform mathematical operations to predict a label from a set of numerical inputs or features. To train our model and make accurate predictions, we need to ensure that both our features and labels are in numerical form.\n",
        "\n",
        "This was the purpose of Part 1 in this series and in order to streamline the process, we've provided a clean version of ```df``` accessible in this notebook.\n",
        "\n",
        "If we were building a neural network with a package like TensorFlow, our labels would need to be one-hot encoded. In this format, each label is represented as a vector indicating the probability that the provided features belong to each of the categories in our dataset.\n",
        "\n",
        "For models like Logistic Regression through sklearn, however, labels should be represented as single numerical values instead of vectors.\n",
        "\n",
        "Note: Here are a couple examples of how we want to transform our labels.\n",
        "```\n",
        "category 0 -> [1, 0, 0, ...]\n",
        "category 1 -> [0, 1, 0, ...]\n",
        "category 2 -> [0, 0, 1, ...]\n",
        "...\n",
        "```"
      ],
      "metadata": {
        "id": "xEwdRd0D2Ta-"
      }
    },
    {
      "cell_type": "markdown",
      "source": [
        "### Exercise 6A\n",
        "\n",
        "\n",
        "Convert your data's labels (```df['labels']```) into a one-hot encoded vector (```df['labels_ohe']```), as shown in the example above.  Hint: You can use the pandas function [```pd.get_dummies()```](https://pandas.pydata.org/docs/reference/api/pandas.get_dummies.html). Sometimes a one-hot-encoded version of a variable is called a \"dummy variable\".\n",
        "\n",
        "\n",
        "⭐ **BONUS (difficult)** ⭐ Try to one-hot encode your labels *without* using the ```get_dummies``` function!"
      ],
      "metadata": {
        "id": "cZRTnhnXR8i9"
      }
    },
    {
      "cell_type": "code",
      "source": [
        "print(df.columns)"
      ],
      "metadata": {
        "colab": {
          "base_uri": "https://localhost:8080/"
        },
        "id": "xdy9rx5NvTEx",
        "outputId": "634e463e-dc75-4b8b-c011-68a1c7bd57a9"
      },
      "execution_count": 4,
      "outputs": [
        {
          "output_type": "stream",
          "name": "stdout",
          "text": [
            "Index(['age', 'workclass', 'fnlwgt', 'education', 'education.num',\n",
            "       'marital.status', 'occupation', 'relationship', 'race', 'sex',\n",
            "       'capital.gain', 'capital.loss', 'hours.per.week', 'native.country',\n",
            "       'label'],\n",
            "      dtype='object')\n"
          ]
        }
      ]
    },
    {
      "cell_type": "code",
      "source": [
        "df['label']"
      ],
      "metadata": {
        "colab": {
          "base_uri": "https://localhost:8080/",
          "height": 458
        },
        "id": "XCCUro0EumPU",
        "outputId": "25719ea6-1c83-4a2b-bddb-ee589373a2fe"
      },
      "execution_count": 31,
      "outputs": [
        {
          "output_type": "execute_result",
          "data": {
            "text/plain": [
              "0       0\n",
              "1       0\n",
              "2       0\n",
              "3       0\n",
              "4       0\n",
              "       ..\n",
              "1195    1\n",
              "1196    1\n",
              "1197    1\n",
              "1198    1\n",
              "1199    1\n",
              "Name: label, Length: 1200, dtype: int64"
            ],
            "text/html": [
              "<div>\n",
              "<style scoped>\n",
              "    .dataframe tbody tr th:only-of-type {\n",
              "        vertical-align: middle;\n",
              "    }\n",
              "\n",
              "    .dataframe tbody tr th {\n",
              "        vertical-align: top;\n",
              "    }\n",
              "\n",
              "    .dataframe thead th {\n",
              "        text-align: right;\n",
              "    }\n",
              "</style>\n",
              "<table border=\"1\" class=\"dataframe\">\n",
              "  <thead>\n",
              "    <tr style=\"text-align: right;\">\n",
              "      <th></th>\n",
              "      <th>label</th>\n",
              "    </tr>\n",
              "  </thead>\n",
              "  <tbody>\n",
              "    <tr>\n",
              "      <th>0</th>\n",
              "      <td>0</td>\n",
              "    </tr>\n",
              "    <tr>\n",
              "      <th>1</th>\n",
              "      <td>0</td>\n",
              "    </tr>\n",
              "    <tr>\n",
              "      <th>2</th>\n",
              "      <td>0</td>\n",
              "    </tr>\n",
              "    <tr>\n",
              "      <th>3</th>\n",
              "      <td>0</td>\n",
              "    </tr>\n",
              "    <tr>\n",
              "      <th>4</th>\n",
              "      <td>0</td>\n",
              "    </tr>\n",
              "    <tr>\n",
              "      <th>...</th>\n",
              "      <td>...</td>\n",
              "    </tr>\n",
              "    <tr>\n",
              "      <th>1195</th>\n",
              "      <td>1</td>\n",
              "    </tr>\n",
              "    <tr>\n",
              "      <th>1196</th>\n",
              "      <td>1</td>\n",
              "    </tr>\n",
              "    <tr>\n",
              "      <th>1197</th>\n",
              "      <td>1</td>\n",
              "    </tr>\n",
              "    <tr>\n",
              "      <th>1198</th>\n",
              "      <td>1</td>\n",
              "    </tr>\n",
              "    <tr>\n",
              "      <th>1199</th>\n",
              "      <td>1</td>\n",
              "    </tr>\n",
              "  </tbody>\n",
              "</table>\n",
              "<p>1200 rows × 1 columns</p>\n",
              "</div><br><label><b>dtype:</b> int64</label>"
            ]
          },
          "metadata": {},
          "execution_count": 31
        }
      ]
    },
    {
      "cell_type": "code",
      "source": [
        "labels = df['label']\n",
        "label_encoders = {0: False, 1: True}\n",
        "df['labels_ohe'] = df['label'].map(label_encoders)\n",
        "labels_ohe = df['labels_ohe']\n",
        "print(\"label #1:\", labels[0])\n",
        "print(\"label #1 converted to OHE:\", labels_ohe[0])"
      ],
      "metadata": {
        "id": "FqGdaNj9FaOm",
        "colab": {
          "base_uri": "https://localhost:8080/"
        },
        "outputId": "0a5fc2a9-bc62-4bc9-cd41-61536448b630"
      },
      "execution_count": 9,
      "outputs": [
        {
          "output_type": "stream",
          "name": "stdout",
          "text": [
            "label #1: 0\n",
            "label #1 converted to OHE: False\n"
          ]
        }
      ]
    },
    {
      "cell_type": "code",
      "source": [
        "#@title Example Solution\n",
        "labels_ohe = pd.get_dummies(df['label'], dtype = int).to_numpy().tolist() # Using the get_dummies() function to one-hot encode your labels.\n",
        "df['labels_ohe'] = labels_ohe\n",
        "\n",
        "# Bonus: without using the get dummies function\n",
        "# possible_labels = list(set(labels))\n",
        "# label_dict = {possible_labels[i]:i for i in range(len(possible_labels))}\n",
        "# y = np.array([[0 for _ in possible_labels] for _ in labels])\n",
        "# for i,label in enumerate(labels):\n",
        "#   y[i][label_dict[label]] = 1\n",
        "\n",
        "# print(\"label #1:\", labels[0])\n",
        "# print(\"label #1 converted to OHE:\", labels_ohe[0])"
      ],
      "metadata": {
        "id": "5Oq4OmD2QB-Q",
        "cellView": "form"
      },
      "execution_count": 4,
      "outputs": []
    },
    {
      "cell_type": "markdown",
      "source": [
        "Now that you have your one-hot-encoded labels (```labels_ohe```), you can convert these back into a single-label format using a function like [```np.argmax()```](https://numpy.org/doc/stable/reference/generated/numpy.argmax.html).\n",
        "\n",
        "Note: Your df already has a column that contains label in this format (```df['label']```). The below is commented out as it is just a reference code\n"
      ],
      "metadata": {
        "id": "lhFW3bPC5Oy1"
      }
    },
    {
      "cell_type": "code",
      "source": [
        "# labels_single = np.argmax(labels_ohe, axis = 1)\n",
        "# df['label'] = labels_single\n",
        "df.head()"
      ],
      "metadata": {
        "id": "qsREEnlU5Oy2",
        "colab": {
          "base_uri": "https://localhost:8080/",
          "height": 226
        },
        "outputId": "51a44176-337a-4e99-ca8b-25b920aaae2d"
      },
      "execution_count": 10,
      "outputs": [
        {
          "output_type": "execute_result",
          "data": {
            "text/plain": [
              "   age  workclass  fnlwgt  education  education.num  marital.status  \\\n",
              "0   22          2   48347          9             13               4   \n",
              "1   23          2  234302         11              9               4   \n",
              "2   37          2   95855          1              7               0   \n",
              "3   24          4  172047          7             12               4   \n",
              "4   31          2  184307         15             10               0   \n",
              "\n",
              "   occupation  relationship  race  sex  capital.gain  capital.loss  \\\n",
              "0           3             3     4    1             0             0   \n",
              "1           4             1     2    1             0             0   \n",
              "2           4             1     4    0             0             0   \n",
              "3           1             3     4    1             0             0   \n",
              "4           1             1     4    1             0             0   \n",
              "\n",
              "   hours.per.week  native.country  label  label_ohe  \n",
              "0              40              30      0      False  \n",
              "1              40              30      0      False  \n",
              "2              40              30      0      False  \n",
              "3              40              30      0      False  \n",
              "4              40              30      0      False  "
            ],
            "text/html": [
              "\n",
              "  <div id=\"df-c6545ee6-0bd0-45a0-84d9-3a18529624b2\" class=\"colab-df-container\">\n",
              "    <div>\n",
              "<style scoped>\n",
              "    .dataframe tbody tr th:only-of-type {\n",
              "        vertical-align: middle;\n",
              "    }\n",
              "\n",
              "    .dataframe tbody tr th {\n",
              "        vertical-align: top;\n",
              "    }\n",
              "\n",
              "    .dataframe thead th {\n",
              "        text-align: right;\n",
              "    }\n",
              "</style>\n",
              "<table border=\"1\" class=\"dataframe\">\n",
              "  <thead>\n",
              "    <tr style=\"text-align: right;\">\n",
              "      <th></th>\n",
              "      <th>age</th>\n",
              "      <th>workclass</th>\n",
              "      <th>fnlwgt</th>\n",
              "      <th>education</th>\n",
              "      <th>education.num</th>\n",
              "      <th>marital.status</th>\n",
              "      <th>occupation</th>\n",
              "      <th>relationship</th>\n",
              "      <th>race</th>\n",
              "      <th>sex</th>\n",
              "      <th>capital.gain</th>\n",
              "      <th>capital.loss</th>\n",
              "      <th>hours.per.week</th>\n",
              "      <th>native.country</th>\n",
              "      <th>label</th>\n",
              "      <th>label_ohe</th>\n",
              "    </tr>\n",
              "  </thead>\n",
              "  <tbody>\n",
              "    <tr>\n",
              "      <th>0</th>\n",
              "      <td>22</td>\n",
              "      <td>2</td>\n",
              "      <td>48347</td>\n",
              "      <td>9</td>\n",
              "      <td>13</td>\n",
              "      <td>4</td>\n",
              "      <td>3</td>\n",
              "      <td>3</td>\n",
              "      <td>4</td>\n",
              "      <td>1</td>\n",
              "      <td>0</td>\n",
              "      <td>0</td>\n",
              "      <td>40</td>\n",
              "      <td>30</td>\n",
              "      <td>0</td>\n",
              "      <td>False</td>\n",
              "    </tr>\n",
              "    <tr>\n",
              "      <th>1</th>\n",
              "      <td>23</td>\n",
              "      <td>2</td>\n",
              "      <td>234302</td>\n",
              "      <td>11</td>\n",
              "      <td>9</td>\n",
              "      <td>4</td>\n",
              "      <td>4</td>\n",
              "      <td>1</td>\n",
              "      <td>2</td>\n",
              "      <td>1</td>\n",
              "      <td>0</td>\n",
              "      <td>0</td>\n",
              "      <td>40</td>\n",
              "      <td>30</td>\n",
              "      <td>0</td>\n",
              "      <td>False</td>\n",
              "    </tr>\n",
              "    <tr>\n",
              "      <th>2</th>\n",
              "      <td>37</td>\n",
              "      <td>2</td>\n",
              "      <td>95855</td>\n",
              "      <td>1</td>\n",
              "      <td>7</td>\n",
              "      <td>0</td>\n",
              "      <td>4</td>\n",
              "      <td>1</td>\n",
              "      <td>4</td>\n",
              "      <td>0</td>\n",
              "      <td>0</td>\n",
              "      <td>0</td>\n",
              "      <td>40</td>\n",
              "      <td>30</td>\n",
              "      <td>0</td>\n",
              "      <td>False</td>\n",
              "    </tr>\n",
              "    <tr>\n",
              "      <th>3</th>\n",
              "      <td>24</td>\n",
              "      <td>4</td>\n",
              "      <td>172047</td>\n",
              "      <td>7</td>\n",
              "      <td>12</td>\n",
              "      <td>4</td>\n",
              "      <td>1</td>\n",
              "      <td>3</td>\n",
              "      <td>4</td>\n",
              "      <td>1</td>\n",
              "      <td>0</td>\n",
              "      <td>0</td>\n",
              "      <td>40</td>\n",
              "      <td>30</td>\n",
              "      <td>0</td>\n",
              "      <td>False</td>\n",
              "    </tr>\n",
              "    <tr>\n",
              "      <th>4</th>\n",
              "      <td>31</td>\n",
              "      <td>2</td>\n",
              "      <td>184307</td>\n",
              "      <td>15</td>\n",
              "      <td>10</td>\n",
              "      <td>0</td>\n",
              "      <td>1</td>\n",
              "      <td>1</td>\n",
              "      <td>4</td>\n",
              "      <td>1</td>\n",
              "      <td>0</td>\n",
              "      <td>0</td>\n",
              "      <td>40</td>\n",
              "      <td>30</td>\n",
              "      <td>0</td>\n",
              "      <td>False</td>\n",
              "    </tr>\n",
              "  </tbody>\n",
              "</table>\n",
              "</div>\n",
              "    <div class=\"colab-df-buttons\">\n",
              "\n",
              "  <div class=\"colab-df-container\">\n",
              "    <button class=\"colab-df-convert\" onclick=\"convertToInteractive('df-c6545ee6-0bd0-45a0-84d9-3a18529624b2')\"\n",
              "            title=\"Convert this dataframe to an interactive table.\"\n",
              "            style=\"display:none;\">\n",
              "\n",
              "  <svg xmlns=\"http://www.w3.org/2000/svg\" height=\"24px\" viewBox=\"0 -960 960 960\">\n",
              "    <path d=\"M120-120v-720h720v720H120Zm60-500h600v-160H180v160Zm220 220h160v-160H400v160Zm0 220h160v-160H400v160ZM180-400h160v-160H180v160Zm440 0h160v-160H620v160ZM180-180h160v-160H180v160Zm440 0h160v-160H620v160Z\"/>\n",
              "  </svg>\n",
              "    </button>\n",
              "\n",
              "  <style>\n",
              "    .colab-df-container {\n",
              "      display:flex;\n",
              "      gap: 12px;\n",
              "    }\n",
              "\n",
              "    .colab-df-convert {\n",
              "      background-color: #E8F0FE;\n",
              "      border: none;\n",
              "      border-radius: 50%;\n",
              "      cursor: pointer;\n",
              "      display: none;\n",
              "      fill: #1967D2;\n",
              "      height: 32px;\n",
              "      padding: 0 0 0 0;\n",
              "      width: 32px;\n",
              "    }\n",
              "\n",
              "    .colab-df-convert:hover {\n",
              "      background-color: #E2EBFA;\n",
              "      box-shadow: 0px 1px 2px rgba(60, 64, 67, 0.3), 0px 1px 3px 1px rgba(60, 64, 67, 0.15);\n",
              "      fill: #174EA6;\n",
              "    }\n",
              "\n",
              "    .colab-df-buttons div {\n",
              "      margin-bottom: 4px;\n",
              "    }\n",
              "\n",
              "    [theme=dark] .colab-df-convert {\n",
              "      background-color: #3B4455;\n",
              "      fill: #D2E3FC;\n",
              "    }\n",
              "\n",
              "    [theme=dark] .colab-df-convert:hover {\n",
              "      background-color: #434B5C;\n",
              "      box-shadow: 0px 1px 3px 1px rgba(0, 0, 0, 0.15);\n",
              "      filter: drop-shadow(0px 1px 2px rgba(0, 0, 0, 0.3));\n",
              "      fill: #FFFFFF;\n",
              "    }\n",
              "  </style>\n",
              "\n",
              "    <script>\n",
              "      const buttonEl =\n",
              "        document.querySelector('#df-c6545ee6-0bd0-45a0-84d9-3a18529624b2 button.colab-df-convert');\n",
              "      buttonEl.style.display =\n",
              "        google.colab.kernel.accessAllowed ? 'block' : 'none';\n",
              "\n",
              "      async function convertToInteractive(key) {\n",
              "        const element = document.querySelector('#df-c6545ee6-0bd0-45a0-84d9-3a18529624b2');\n",
              "        const dataTable =\n",
              "          await google.colab.kernel.invokeFunction('convertToInteractive',\n",
              "                                                    [key], {});\n",
              "        if (!dataTable) return;\n",
              "\n",
              "        const docLinkHtml = 'Like what you see? Visit the ' +\n",
              "          '<a target=\"_blank\" href=https://colab.research.google.com/notebooks/data_table.ipynb>data table notebook</a>'\n",
              "          + ' to learn more about interactive tables.';\n",
              "        element.innerHTML = '';\n",
              "        dataTable['output_type'] = 'display_data';\n",
              "        await google.colab.output.renderOutput(dataTable, element);\n",
              "        const docLink = document.createElement('div');\n",
              "        docLink.innerHTML = docLinkHtml;\n",
              "        element.appendChild(docLink);\n",
              "      }\n",
              "    </script>\n",
              "  </div>\n",
              "\n",
              "\n",
              "    <div id=\"df-b9cc04d1-2a8d-4a05-881c-4e380b072b19\">\n",
              "      <button class=\"colab-df-quickchart\" onclick=\"quickchart('df-b9cc04d1-2a8d-4a05-881c-4e380b072b19')\"\n",
              "                title=\"Suggest charts\"\n",
              "                style=\"display:none;\">\n",
              "\n",
              "<svg xmlns=\"http://www.w3.org/2000/svg\" height=\"24px\"viewBox=\"0 0 24 24\"\n",
              "     width=\"24px\">\n",
              "    <g>\n",
              "        <path d=\"M19 3H5c-1.1 0-2 .9-2 2v14c0 1.1.9 2 2 2h14c1.1 0 2-.9 2-2V5c0-1.1-.9-2-2-2zM9 17H7v-7h2v7zm4 0h-2V7h2v10zm4 0h-2v-4h2v4z\"/>\n",
              "    </g>\n",
              "</svg>\n",
              "      </button>\n",
              "\n",
              "<style>\n",
              "  .colab-df-quickchart {\n",
              "      --bg-color: #E8F0FE;\n",
              "      --fill-color: #1967D2;\n",
              "      --hover-bg-color: #E2EBFA;\n",
              "      --hover-fill-color: #174EA6;\n",
              "      --disabled-fill-color: #AAA;\n",
              "      --disabled-bg-color: #DDD;\n",
              "  }\n",
              "\n",
              "  [theme=dark] .colab-df-quickchart {\n",
              "      --bg-color: #3B4455;\n",
              "      --fill-color: #D2E3FC;\n",
              "      --hover-bg-color: #434B5C;\n",
              "      --hover-fill-color: #FFFFFF;\n",
              "      --disabled-bg-color: #3B4455;\n",
              "      --disabled-fill-color: #666;\n",
              "  }\n",
              "\n",
              "  .colab-df-quickchart {\n",
              "    background-color: var(--bg-color);\n",
              "    border: none;\n",
              "    border-radius: 50%;\n",
              "    cursor: pointer;\n",
              "    display: none;\n",
              "    fill: var(--fill-color);\n",
              "    height: 32px;\n",
              "    padding: 0;\n",
              "    width: 32px;\n",
              "  }\n",
              "\n",
              "  .colab-df-quickchart:hover {\n",
              "    background-color: var(--hover-bg-color);\n",
              "    box-shadow: 0 1px 2px rgba(60, 64, 67, 0.3), 0 1px 3px 1px rgba(60, 64, 67, 0.15);\n",
              "    fill: var(--button-hover-fill-color);\n",
              "  }\n",
              "\n",
              "  .colab-df-quickchart-complete:disabled,\n",
              "  .colab-df-quickchart-complete:disabled:hover {\n",
              "    background-color: var(--disabled-bg-color);\n",
              "    fill: var(--disabled-fill-color);\n",
              "    box-shadow: none;\n",
              "  }\n",
              "\n",
              "  .colab-df-spinner {\n",
              "    border: 2px solid var(--fill-color);\n",
              "    border-color: transparent;\n",
              "    border-bottom-color: var(--fill-color);\n",
              "    animation:\n",
              "      spin 1s steps(1) infinite;\n",
              "  }\n",
              "\n",
              "  @keyframes spin {\n",
              "    0% {\n",
              "      border-color: transparent;\n",
              "      border-bottom-color: var(--fill-color);\n",
              "      border-left-color: var(--fill-color);\n",
              "    }\n",
              "    20% {\n",
              "      border-color: transparent;\n",
              "      border-left-color: var(--fill-color);\n",
              "      border-top-color: var(--fill-color);\n",
              "    }\n",
              "    30% {\n",
              "      border-color: transparent;\n",
              "      border-left-color: var(--fill-color);\n",
              "      border-top-color: var(--fill-color);\n",
              "      border-right-color: var(--fill-color);\n",
              "    }\n",
              "    40% {\n",
              "      border-color: transparent;\n",
              "      border-right-color: var(--fill-color);\n",
              "      border-top-color: var(--fill-color);\n",
              "    }\n",
              "    60% {\n",
              "      border-color: transparent;\n",
              "      border-right-color: var(--fill-color);\n",
              "    }\n",
              "    80% {\n",
              "      border-color: transparent;\n",
              "      border-right-color: var(--fill-color);\n",
              "      border-bottom-color: var(--fill-color);\n",
              "    }\n",
              "    90% {\n",
              "      border-color: transparent;\n",
              "      border-bottom-color: var(--fill-color);\n",
              "    }\n",
              "  }\n",
              "</style>\n",
              "\n",
              "      <script>\n",
              "        async function quickchart(key) {\n",
              "          const quickchartButtonEl =\n",
              "            document.querySelector('#' + key + ' button');\n",
              "          quickchartButtonEl.disabled = true;  // To prevent multiple clicks.\n",
              "          quickchartButtonEl.classList.add('colab-df-spinner');\n",
              "          try {\n",
              "            const charts = await google.colab.kernel.invokeFunction(\n",
              "                'suggestCharts', [key], {});\n",
              "          } catch (error) {\n",
              "            console.error('Error during call to suggestCharts:', error);\n",
              "          }\n",
              "          quickchartButtonEl.classList.remove('colab-df-spinner');\n",
              "          quickchartButtonEl.classList.add('colab-df-quickchart-complete');\n",
              "        }\n",
              "        (() => {\n",
              "          let quickchartButtonEl =\n",
              "            document.querySelector('#df-b9cc04d1-2a8d-4a05-881c-4e380b072b19 button');\n",
              "          quickchartButtonEl.style.display =\n",
              "            google.colab.kernel.accessAllowed ? 'block' : 'none';\n",
              "        })();\n",
              "      </script>\n",
              "    </div>\n",
              "\n",
              "    </div>\n",
              "  </div>\n"
            ],
            "application/vnd.google.colaboratory.intrinsic+json": {
              "type": "dataframe",
              "variable_name": "df",
              "summary": "{\n  \"name\": \"df\",\n  \"rows\": 1200,\n  \"fields\": [\n    {\n      \"column\": \"age\",\n      \"properties\": {\n        \"dtype\": \"number\",\n        \"std\": 12,\n        \"min\": 17,\n        \"max\": 81,\n        \"num_unique_values\": 62,\n        \"samples\": [\n          69,\n          63,\n          22\n        ],\n        \"semantic_type\": \"\",\n        \"description\": \"\"\n      }\n    },\n    {\n      \"column\": \"workclass\",\n      \"properties\": {\n        \"dtype\": \"number\",\n        \"std\": 0,\n        \"min\": 0,\n        \"max\": 5,\n        \"num_unique_values\": 6,\n        \"samples\": [\n          2,\n          4,\n          5\n        ],\n        \"semantic_type\": \"\",\n        \"description\": \"\"\n      }\n    },\n    {\n      \"column\": \"fnlwgt\",\n      \"properties\": {\n        \"dtype\": \"number\",\n        \"std\": 103090,\n        \"min\": 14878,\n        \"max\": 1033222,\n        \"num_unique_values\": 1153,\n        \"samples\": [\n          162572,\n          128086,\n          186824\n        ],\n        \"semantic_type\": \"\",\n        \"description\": \"\"\n      }\n    },\n    {\n      \"column\": \"education\",\n      \"properties\": {\n        \"dtype\": \"number\",\n        \"std\": 3,\n        \"min\": 0,\n        \"max\": 15,\n        \"num_unique_values\": 16,\n        \"samples\": [\n          9,\n          11,\n          5\n        ],\n        \"semantic_type\": \"\",\n        \"description\": \"\"\n      }\n    },\n    {\n      \"column\": \"education.num\",\n      \"properties\": {\n        \"dtype\": \"number\",\n        \"std\": 2,\n        \"min\": 1,\n        \"max\": 16,\n        \"num_unique_values\": 16,\n        \"samples\": [\n          13,\n          9,\n          4\n        ],\n        \"semantic_type\": \"\",\n        \"description\": \"\"\n      }\n    },\n    {\n      \"column\": \"marital.status\",\n      \"properties\": {\n        \"dtype\": \"number\",\n        \"std\": 1,\n        \"min\": 0,\n        \"max\": 6,\n        \"num_unique_values\": 7,\n        \"samples\": [\n          4,\n          0,\n          3\n        ],\n        \"semantic_type\": \"\",\n        \"description\": \"\"\n      }\n    },\n    {\n      \"column\": \"occupation\",\n      \"properties\": {\n        \"dtype\": \"number\",\n        \"std\": 3,\n        \"min\": 0,\n        \"max\": 12,\n        \"num_unique_values\": 13,\n        \"samples\": [\n          11,\n          0,\n          3\n        ],\n        \"semantic_type\": \"\",\n        \"description\": \"\"\n      }\n    },\n    {\n      \"column\": \"relationship\",\n      \"properties\": {\n        \"dtype\": \"number\",\n        \"std\": 1,\n        \"min\": 0,\n        \"max\": 5,\n        \"num_unique_values\": 6,\n        \"samples\": [\n          3,\n          1,\n          5\n        ],\n        \"semantic_type\": \"\",\n        \"description\": \"\"\n      }\n    },\n    {\n      \"column\": \"race\",\n      \"properties\": {\n        \"dtype\": \"number\",\n        \"std\": 0,\n        \"min\": 0,\n        \"max\": 4,\n        \"num_unique_values\": 5,\n        \"samples\": [\n          2,\n          0,\n          3\n        ],\n        \"semantic_type\": \"\",\n        \"description\": \"\"\n      }\n    },\n    {\n      \"column\": \"sex\",\n      \"properties\": {\n        \"dtype\": \"number\",\n        \"std\": 0,\n        \"min\": 0,\n        \"max\": 1,\n        \"num_unique_values\": 2,\n        \"samples\": [\n          0,\n          1\n        ],\n        \"semantic_type\": \"\",\n        \"description\": \"\"\n      }\n    },\n    {\n      \"column\": \"capital.gain\",\n      \"properties\": {\n        \"dtype\": \"number\",\n        \"std\": 11150,\n        \"min\": 0,\n        \"max\": 99999,\n        \"num_unique_values\": 40,\n        \"samples\": [\n          15024,\n          2174\n        ],\n        \"semantic_type\": \"\",\n        \"description\": \"\"\n      }\n    },\n    {\n      \"column\": \"capital.loss\",\n      \"properties\": {\n        \"dtype\": \"number\",\n        \"std\": 490,\n        \"min\": 0,\n        \"max\": 2559,\n        \"num_unique_values\": 30,\n        \"samples\": [\n          2392,\n          1579\n        ],\n        \"semantic_type\": \"\",\n        \"description\": \"\"\n      }\n    },\n    {\n      \"column\": \"hours.per.week\",\n      \"properties\": {\n        \"dtype\": \"number\",\n        \"std\": 12,\n        \"min\": 1,\n        \"max\": 99,\n        \"num_unique_values\": 63,\n        \"samples\": [\n          8,\n          53\n        ],\n        \"semantic_type\": \"\",\n        \"description\": \"\"\n      }\n    },\n    {\n      \"column\": \"native.country\",\n      \"properties\": {\n        \"dtype\": \"number\",\n        \"std\": 4,\n        \"min\": 0,\n        \"max\": 31,\n        \"num_unique_values\": 32,\n        \"samples\": [\n          29,\n          6\n        ],\n        \"semantic_type\": \"\",\n        \"description\": \"\"\n      }\n    },\n    {\n      \"column\": \"label\",\n      \"properties\": {\n        \"dtype\": \"number\",\n        \"std\": 0,\n        \"min\": 0,\n        \"max\": 1,\n        \"num_unique_values\": 2,\n        \"samples\": [\n          1,\n          0\n        ],\n        \"semantic_type\": \"\",\n        \"description\": \"\"\n      }\n    },\n    {\n      \"column\": \"label_ohe\",\n      \"properties\": {\n        \"dtype\": \"boolean\",\n        \"num_unique_values\": 2,\n        \"samples\": [\n          true,\n          false\n        ],\n        \"semantic_type\": \"\",\n        \"description\": \"\"\n      }\n    }\n  ]\n}"
            }
          },
          "metadata": {},
          "execution_count": 10
        }
      ]
    },
    {
      "cell_type": "markdown",
      "source": [
        "## 🍕 Train test split\n",
        "\n",
        "<img src=\"https://drive.google.com/uc?export=view&id=1f9HECt_VTMPYTAt-NcpmfCN-cKbv6A6G\" height=300>\n",
        "\n",
        "\n"
      ],
      "metadata": {
        "id": "g1hN0H9E2KNL"
      }
    },
    {
      "cell_type": "markdown",
      "source": [],
      "metadata": {
        "id": "3GKnSwfOWAA0"
      }
    },
    {
      "cell_type": "markdown",
      "source": [
        "In Python, different machine learning packages expect input data in specific formats. For instance, in this notebook, we’ll be using ```sklearn``` to build a Logistic Regression model.\n",
        "\n",
        "In order to simplify the model building piece, we'll split our ```df``` into two separate dataframes (X and y). This will allow us to keep our inputs and label separate."
      ],
      "metadata": {
        "id": "UIuA-1exAQyt"
      }
    },
    {
      "cell_type": "code",
      "source": [
        "X = df.drop(columns=['label', 'labels_ohe'])\n",
        "y = df.drop(columns=['labels_ohe'])['label']\n",
        "\n",
        "print(\"Shape of X: \", X.shape)\n",
        "print(\"Shape of y: \", y.shape)"
      ],
      "metadata": {
        "id": "t3_ePTVSAmVe",
        "colab": {
          "base_uri": "https://localhost:8080/"
        },
        "outputId": "9ef4464c-92eb-4a25-d315-dd3f48bad48d"
      },
      "execution_count": 10,
      "outputs": [
        {
          "output_type": "stream",
          "name": "stdout",
          "text": [
            "Shape of X:  (1200, 14)\n",
            "Shape of y:  (1200,)\n"
          ]
        }
      ]
    },
    {
      "cell_type": "code",
      "source": [
        "y"
      ],
      "metadata": {
        "colab": {
          "base_uri": "https://localhost:8080/",
          "height": 458
        },
        "id": "nrkzmcGybinW",
        "outputId": "bf8dab52-4b8a-4dc7-af56-79bd8cc93bd8"
      },
      "execution_count": 14,
      "outputs": [
        {
          "output_type": "execute_result",
          "data": {
            "text/plain": [
              "0       0\n",
              "1       0\n",
              "2       0\n",
              "3       0\n",
              "4       0\n",
              "       ..\n",
              "1195    1\n",
              "1196    1\n",
              "1197    1\n",
              "1198    1\n",
              "1199    1\n",
              "Name: label, Length: 1200, dtype: int64"
            ],
            "text/html": [
              "<div>\n",
              "<style scoped>\n",
              "    .dataframe tbody tr th:only-of-type {\n",
              "        vertical-align: middle;\n",
              "    }\n",
              "\n",
              "    .dataframe tbody tr th {\n",
              "        vertical-align: top;\n",
              "    }\n",
              "\n",
              "    .dataframe thead th {\n",
              "        text-align: right;\n",
              "    }\n",
              "</style>\n",
              "<table border=\"1\" class=\"dataframe\">\n",
              "  <thead>\n",
              "    <tr style=\"text-align: right;\">\n",
              "      <th></th>\n",
              "      <th>label</th>\n",
              "    </tr>\n",
              "  </thead>\n",
              "  <tbody>\n",
              "    <tr>\n",
              "      <th>0</th>\n",
              "      <td>0</td>\n",
              "    </tr>\n",
              "    <tr>\n",
              "      <th>1</th>\n",
              "      <td>0</td>\n",
              "    </tr>\n",
              "    <tr>\n",
              "      <th>2</th>\n",
              "      <td>0</td>\n",
              "    </tr>\n",
              "    <tr>\n",
              "      <th>3</th>\n",
              "      <td>0</td>\n",
              "    </tr>\n",
              "    <tr>\n",
              "      <th>4</th>\n",
              "      <td>0</td>\n",
              "    </tr>\n",
              "    <tr>\n",
              "      <th>...</th>\n",
              "      <td>...</td>\n",
              "    </tr>\n",
              "    <tr>\n",
              "      <th>1195</th>\n",
              "      <td>1</td>\n",
              "    </tr>\n",
              "    <tr>\n",
              "      <th>1196</th>\n",
              "      <td>1</td>\n",
              "    </tr>\n",
              "    <tr>\n",
              "      <th>1197</th>\n",
              "      <td>1</td>\n",
              "    </tr>\n",
              "    <tr>\n",
              "      <th>1198</th>\n",
              "      <td>1</td>\n",
              "    </tr>\n",
              "    <tr>\n",
              "      <th>1199</th>\n",
              "      <td>1</td>\n",
              "    </tr>\n",
              "  </tbody>\n",
              "</table>\n",
              "<p>1200 rows × 1 columns</p>\n",
              "</div><br><label><b>dtype:</b> int64</label>"
            ]
          },
          "metadata": {},
          "execution_count": 14
        }
      ]
    },
    {
      "cell_type": "markdown",
      "source": [
        "### Exercise 6B"
      ],
      "metadata": {
        "id": "aYwctCn8SCUG"
      }
    },
    {
      "cell_type": "markdown",
      "source": [
        "Split up your features and labels into a training and testing dataset. Hint: you can use the function ```train_test_split()```."
      ],
      "metadata": {
        "id": "0_5IA6EZSDV0"
      }
    },
    {
      "cell_type": "code",
      "source": [
        "X_train, X_test, y_train, y_test = train_test_split(X, y) ### YOUR CODE HERE\n",
        "\n",
        "print('# of samples in X_train:', len(X_train))\n",
        "print('# of samples in y_train:', len(y_train))\n",
        "print('# of samples in X_test:', len(X_test))\n",
        "print('# of samples in y_test:', len(y_test))"
      ],
      "metadata": {
        "id": "evfJkKivFtOm",
        "colab": {
          "base_uri": "https://localhost:8080/"
        },
        "outputId": "e19066dd-a959-456d-a4e8-f4d1fe34a257"
      },
      "execution_count": 32,
      "outputs": [
        {
          "output_type": "stream",
          "name": "stdout",
          "text": [
            "# of samples in X_train: 900\n",
            "# of samples in y_train: 900\n",
            "# of samples in X_test: 300\n",
            "# of samples in y_test: 300\n"
          ]
        }
      ]
    },
    {
      "cell_type": "code",
      "source": [
        "#@title Example Solution\n",
        "X_train, X_test, y_train, y_test = train_test_split(X, y)\n",
        "print('# of samples in X_train:', len(X_train))\n",
        "print('# of samples in y_train:', len(y_train))\n",
        "print('# of samples in X_test:', len(X_test))\n",
        "print('# of samples in y_test:', len(y_test))"
      ],
      "metadata": {
        "id": "kKHSmfsxQHFV",
        "cellView": "form",
        "colab": {
          "base_uri": "https://localhost:8080/"
        },
        "outputId": "ee78b1f2-9cc2-4684-888e-f396fbf3c487"
      },
      "execution_count": 12,
      "outputs": [
        {
          "output_type": "stream",
          "name": "stdout",
          "text": [
            "# of samples in X_train: 900\n",
            "# of samples in y_train: 900\n",
            "# of samples in X_test: 300\n",
            "# of samples in y_test: 300\n"
          ]
        }
      ]
    },
    {
      "cell_type": "markdown",
      "metadata": {
        "id": "d_fFdZ6vHSic"
      },
      "source": [
        "### 💻 Machine Learning Models\n",
        "\n",
        "You've learned a lot about machine learning models over the past week! Some supervised machine learning models you have touched on have been: K-means classifiers, logistic regression, linear regression, fully connected neural networks, and convolutional neural networks!\n",
        "\n",
        "<img src=\"https://upload.wikimedia.org/wikipedia/commons/0/09/Supervised_machine_learning_in_a_nutshell.svg\" height=200>"
      ]
    },
    {
      "cell_type": "markdown",
      "source": [
        "### Exercise 6C"
      ],
      "metadata": {
        "id": "hyq_UJq5-PN5"
      }
    },
    {
      "cell_type": "markdown",
      "source": [
        "**Example Model Development Walkthrough: Logistic Regression**\n",
        "\n",
        "A very simple classification model that we can use is [Logistic Regression](https://scikit-learn.org/stable/modules/generated/sklearn.linear_model.LogisticRegression.html). Let us walk through its creation below:\n",
        "\n",
        "\n",
        "```python\n",
        "# Step 1: Initialization\n",
        "from sklearn.linear_model import LogisticRegression\n",
        "\n",
        "logistic_model = LogisticRegression()\n",
        "\n",
        "# Step 2: Training\n",
        "logistic_model.fit(YOUR X_TRAIN, YOUR Y_TRAIN)\n",
        "\n",
        "# Step 3: Prediction\n",
        "predictions = logistic_model.predict(YOUR X_TEST)\n",
        "\n",
        "# Step 4: Evaluation\n",
        "from sklearn.metrics import accuracy_score\n",
        "\n",
        "score = accuracy_score(y_test_c, predictions)\n",
        "print('Logistic Regression Model Accuracy: {:.2%}'.format(score))\n"
      ],
      "metadata": {
        "id": "yJGtCrR1tlZ5"
      }
    },
    {
      "cell_type": "markdown",
      "source": [
        "Take some time to build your very first model!"
      ],
      "metadata": {
        "id": "sVm9BQcY-PN6"
      }
    },
    {
      "cell_type": "code",
      "source": [
        "for column in X.columns:\n",
        "  sns.catplot(data = df, x=column, y='label', kind='swarm')"
      ],
      "metadata": {
        "id": "WKdrLKV0HKZ5"
      },
      "execution_count": null,
      "outputs": []
    },
    {
      "cell_type": "code",
      "source": [
        "print((X == 0).sum().sum())\n",
        "print(X.values.size)"
      ],
      "metadata": {
        "colab": {
          "base_uri": "https://localhost:8080/"
        },
        "id": "8i-Vx6-yzKXS",
        "outputId": "4a2c89c3-4c3c-497e-c4f2-5203d6a07cf5"
      },
      "execution_count": 11,
      "outputs": [
        {
          "output_type": "stream",
          "name": "stdout",
          "text": [
            "3427\n",
            "16800\n"
          ]
        }
      ]
    },
    {
      "cell_type": "code",
      "source": [
        "y_train.head()"
      ],
      "metadata": {
        "colab": {
          "base_uri": "https://localhost:8080/",
          "height": 241
        },
        "id": "I9M-JkcZ1JaP",
        "outputId": "e9c7656b-246c-42fb-e236-5aae8def53ab"
      },
      "execution_count": 32,
      "outputs": [
        {
          "output_type": "execute_result",
          "data": {
            "text/plain": [
              "740    1\n",
              "947    1\n",
              "793    1\n",
              "203    0\n",
              "425    0\n",
              "Name: label, dtype: int64"
            ],
            "text/html": [
              "<div>\n",
              "<style scoped>\n",
              "    .dataframe tbody tr th:only-of-type {\n",
              "        vertical-align: middle;\n",
              "    }\n",
              "\n",
              "    .dataframe tbody tr th {\n",
              "        vertical-align: top;\n",
              "    }\n",
              "\n",
              "    .dataframe thead th {\n",
              "        text-align: right;\n",
              "    }\n",
              "</style>\n",
              "<table border=\"1\" class=\"dataframe\">\n",
              "  <thead>\n",
              "    <tr style=\"text-align: right;\">\n",
              "      <th></th>\n",
              "      <th>label</th>\n",
              "    </tr>\n",
              "  </thead>\n",
              "  <tbody>\n",
              "    <tr>\n",
              "      <th>740</th>\n",
              "      <td>1</td>\n",
              "    </tr>\n",
              "    <tr>\n",
              "      <th>947</th>\n",
              "      <td>1</td>\n",
              "    </tr>\n",
              "    <tr>\n",
              "      <th>793</th>\n",
              "      <td>1</td>\n",
              "    </tr>\n",
              "    <tr>\n",
              "      <th>203</th>\n",
              "      <td>0</td>\n",
              "    </tr>\n",
              "    <tr>\n",
              "      <th>425</th>\n",
              "      <td>0</td>\n",
              "    </tr>\n",
              "  </tbody>\n",
              "</table>\n",
              "</div><br><label><b>dtype:</b> int64</label>"
            ]
          },
          "metadata": {},
          "execution_count": 32
        }
      ]
    },
    {
      "cell_type": "code",
      "source": [
        "from sklearn import preprocessing\n",
        "\n",
        "scaler = preprocessing.StandardScaler().fit(X_train)\n",
        "X_scaled = scaler.transform(X_train)\n",
        "X_test_scaled = scaler.transform(X_test)"
      ],
      "metadata": {
        "id": "j7oVaTX5O7qQ"
      },
      "execution_count": 13,
      "outputs": []
    },
    {
      "cell_type": "code",
      "source": [
        "X_scaled"
      ],
      "metadata": {
        "colab": {
          "base_uri": "https://localhost:8080/"
        },
        "id": "ngAoaNhhPCxj",
        "outputId": "9b52e9cb-75a6-417b-e770-405a1657a12f"
      },
      "execution_count": 19,
      "outputs": [
        {
          "output_type": "execute_result",
          "data": {
            "text/plain": [
              "array([[-1.35271453, -0.23675302, -1.1207529 , ..., -0.25905013,\n",
              "        -3.53593465,  0.46931735],\n",
              "       [-0.14060474, -0.23675302, -1.50926932, ..., -0.25905013,\n",
              "        -0.24743392,  0.25833552],\n",
              "       [ 0.0210099 , -0.23675302,  0.09397541, ..., -0.25905013,\n",
              "        -0.24743392,  0.25833552],\n",
              "       ...,\n",
              "       [ 0.99069774, -0.23675302, -0.41936369, ..., -0.25905013,\n",
              "        -0.24743392,  0.25833552],\n",
              "       [ 0.10181722, -0.23675302, -1.43879425, ..., -0.25905013,\n",
              "        -0.24743392,  0.25833552],\n",
              "       [ 0.90989042,  0.79260792, -0.1987089 , ..., -0.25905013,\n",
              "        -0.24743392,  0.25833552]])"
            ]
          },
          "metadata": {},
          "execution_count": 19
        }
      ]
    },
    {
      "cell_type": "code",
      "source": [
        "from sklearn.linear_model import LogisticRegression\n",
        "\n",
        "logistic_model = LogisticRegression()\n",
        "\n",
        "logistic_model.fit(X_scaled, y_train)\n",
        "\n",
        "predictions = logistic_model.predict(X_test_scaled)\n",
        "\n",
        "from sklearn.metrics import accuracy_score\n",
        "\n",
        "score = accuracy_score(y_test, predictions)\n",
        "\n",
        "print('Logistic Regression Model Accuracy: {:.2%}'.format(score))\n"
      ],
      "metadata": {
        "colab": {
          "base_uri": "https://localhost:8080/"
        },
        "id": "ugfcYgC-PE_F",
        "outputId": "c0a96005-c708-4b61-88f2-8fc406804f1a"
      },
      "execution_count": 28,
      "outputs": [
        {
          "output_type": "stream",
          "name": "stdout",
          "text": [
            "Logistic Regression Model Accuracy: 70.67%\n"
          ]
        }
      ]
    },
    {
      "cell_type": "code",
      "source": [
        "### YOUR CODE HERE ###\n",
        "from sklearn.linear_model import LogisticRegression\n",
        "\n",
        "logistic_model = LogisticRegression()\n",
        "\n",
        "logistic_model.fit(X_train, y_train)\n",
        "\n",
        "predictions = logistic_model.predict(X_test)\n",
        "\n",
        "from sklearn.metrics import accuracy_score\n",
        "\n",
        "score = accuracy_score(y_test, predictions)\n",
        "\n",
        "print('Logistic Regression Model Accuracy: {:.2%}'.format(score))\n"
      ],
      "metadata": {
        "colab": {
          "base_uri": "https://localhost:8080/"
        },
        "id": "EPAqx3bcCPXg",
        "outputId": "424d64ee-4621-412f-86cf-5e0d7bf667d5"
      },
      "execution_count": 26,
      "outputs": [
        {
          "output_type": "stream",
          "name": "stdout",
          "text": [
            "Logistic Regression Model Accuracy: 67.00%\n"
          ]
        },
        {
          "output_type": "stream",
          "name": "stderr",
          "text": [
            "/usr/local/lib/python3.11/dist-packages/sklearn/linear_model/_logistic.py:465: ConvergenceWarning: lbfgs failed to converge (status=1):\n",
            "STOP: TOTAL NO. OF ITERATIONS REACHED LIMIT.\n",
            "\n",
            "Increase the number of iterations (max_iter) or scale the data as shown in:\n",
            "    https://scikit-learn.org/stable/modules/preprocessing.html\n",
            "Please also refer to the documentation for alternative solver options:\n",
            "    https://scikit-learn.org/stable/modules/linear_model.html#logistic-regression\n",
            "  n_iter_i = _check_optimize_result(\n"
          ]
        }
      ]
    },
    {
      "cell_type": "code",
      "source": [
        "### YOUR CODE HERE ###\n",
        "from sklearn.linear_model import LogisticRegression\n",
        "\n",
        "# X_train, X_test = X_scaled, X_test_scaled\n",
        "\n",
        "newton_cg = LogisticRegression(solver='newton-cg')\n",
        "newton_cholesky = LogisticRegression(solver='newton-cholesky')\n",
        "logistic_model = LogisticRegression(solver='lbfgs')\n",
        "sag = LogisticRegression(solver='sag')\n",
        "liblinear = LogisticRegression(solver='liblinear')\n",
        "saga = LogisticRegression(solver='saga')\n",
        "\n",
        "\n",
        "logistic_model.fit(X_train, y_train)\n",
        "newton_cholesky.fit(X_train, y_train)\n",
        "newton_cg.fit(X_train, y_train)\n",
        "sag.fit(X_train, y_train)\n",
        "saga.fit(X_train, y_train)\n",
        "liblinear.fit(X_train, y_train)\n",
        "\n",
        "\n",
        "predictions = logistic_model.predict(X_test)\n",
        "cg_predictions = newton_cg.predict(X_test)\n",
        "cholesky_predictions = newton_cholesky.predict(X_test)\n",
        "sag_predictions = sag.predict(X_test)\n",
        "ll_predictions = liblinear.predict(X_test)\n",
        "saga_predictions = saga.predict(X_test)\n",
        "\n",
        "from sklearn.metrics import accuracy_score, precision_score\n",
        "\n",
        "score = accuracy_score(y_test, predictions)\n",
        "cg_score = accuracy_score(y_test, cg_predictions)\n",
        "cholesky_score = accuracy_score(y_test, cholesky_predictions)\n",
        "sag_score = accuracy_score(y_test, sag_predictions)\n",
        "ll_score = accuracy_score(y_test, ll_predictions)\n",
        "saga_score = accuracy_score(y_test, saga_predictions)\n",
        "\n",
        "\n",
        "print('Logistic Regression Model Accuracy: {:.5%}'.format(score))\n",
        "print('Newton Cg Model Accuracy: {:.5%}'.format(cg_score))\n",
        "print('Newton Cholesky Regression Model Accuracy: {:.5%}'.format(cholesky_score))\n",
        "print('SAG Regression Model Accuracy: {:.5%}'.format(sag_score))\n",
        "print('Liblinear Regression Model Accuracy: {:.5%}'.format(ll_score))\n",
        "print('SAGA Regression Model Accuracy: {:.5%}'.format(saga_score))\n",
        "\n",
        "score = precision_score(y_test, predictions)\n",
        "cg_score = precision_score(y_test, cg_predictions)\n",
        "cholesky_score = precision_score(y_test, cholesky_predictions)\n",
        "sag_score = precision_score(y_test, sag_predictions)\n",
        "ll_score = precision_score(y_test, ll_predictions)\n",
        "saga_score = precision_score(y_test, saga_predictions)\n",
        "\n",
        "\n",
        "print('Logistic Regression Model Precision: {:.5%}'.format(score))\n",
        "print('Newton Cg Model Precision: {:.5%}'.format(cg_score))\n",
        "print('Newton Cholesky Regression Model Precision: {:.5%}'.format(cholesky_score))\n",
        "print('SAG Regression Model Precision: {:.5%}'.format(sag_score))\n",
        "print('Liblinear Regression Model Precision: {:.5%}'.format(ll_score))\n",
        "print('SAGA Regression Model Precision: {:.5%}'.format(saga_score))"
      ],
      "metadata": {
        "id": "nb_Re2EA-PN6",
        "colab": {
          "base_uri": "https://localhost:8080/"
        },
        "outputId": "ceba17e9-426e-458d-95cc-ad8beb6aa01d"
      },
      "execution_count": 18,
      "outputs": [
        {
          "output_type": "stream",
          "name": "stderr",
          "text": [
            "/usr/local/lib/python3.11/dist-packages/sklearn/linear_model/_logistic.py:465: ConvergenceWarning: lbfgs failed to converge (status=1):\n",
            "STOP: TOTAL NO. OF ITERATIONS REACHED LIMIT.\n",
            "\n",
            "Increase the number of iterations (max_iter) or scale the data as shown in:\n",
            "    https://scikit-learn.org/stable/modules/preprocessing.html\n",
            "Please also refer to the documentation for alternative solver options:\n",
            "    https://scikit-learn.org/stable/modules/linear_model.html#logistic-regression\n",
            "  n_iter_i = _check_optimize_result(\n",
            "/usr/local/lib/python3.11/dist-packages/scipy/optimize/_linesearch.py:312: LineSearchWarning: The line search algorithm did not converge\n",
            "  alpha_star, phi_star, old_fval, derphi_star = scalar_search_wolfe2(\n",
            "/usr/local/lib/python3.11/dist-packages/sklearn/utils/optimize.py:100: LineSearchWarning: The line search algorithm did not converge\n",
            "  ret = line_search_wolfe2(\n",
            "/usr/local/lib/python3.11/dist-packages/sklearn/utils/optimize.py:319: ConvergenceWarning: newton-cg failed to converge at loss = 0.43998936298037655. Increase the number of iterations.\n",
            "  warnings.warn(\n"
          ]
        },
        {
          "output_type": "stream",
          "name": "stdout",
          "text": [
            "Logistic Regression Model Accuracy: 66.00000%\n",
            "Newton Cg Model Accuracy: 72.00000%\n",
            "Newton Cholesky Regression Model Accuracy: 71.66667%\n",
            "SAG Regression Model Accuracy: 59.00000%\n",
            "Liblinear Regression Model Accuracy: 72.33333%\n",
            "SAGA Regression Model Accuracy: 59.00000%\n",
            "Logistic Regression Model Precision: 67.56757%\n",
            "Newton Cg Model Precision: 72.72727%\n",
            "Newton Cholesky Regression Model Precision: 72.25806%\n",
            "SAG Regression Model Precision: 84.44444%\n",
            "Liblinear Regression Model Precision: 72.90323%\n",
            "SAGA Regression Model Precision: 84.44444%\n"
          ]
        },
        {
          "output_type": "stream",
          "name": "stderr",
          "text": [
            "/usr/local/lib/python3.11/dist-packages/sklearn/linear_model/_sag.py:348: ConvergenceWarning: The max_iter was reached which means the coef_ did not converge\n",
            "  warnings.warn(\n",
            "/usr/local/lib/python3.11/dist-packages/sklearn/linear_model/_sag.py:348: ConvergenceWarning: The max_iter was reached which means the coef_ did not converge\n",
            "  warnings.warn(\n"
          ]
        }
      ]
    },
    {
      "cell_type": "markdown",
      "source": [
        "How well did your model perform? What does this mean?"
      ],
      "metadata": {
        "id": "rYTDgp_N-PN6"
      }
    },
    {
      "cell_type": "code",
      "source": [
        "#@title\n",
        "\n",
        "reflection = \"70.67%\" # @param {type:\"string\"}"
      ],
      "metadata": {
        "cellView": "form",
        "id": "OxlmfElA-PN6"
      },
      "execution_count": 55,
      "outputs": []
    },
    {
      "cell_type": "markdown",
      "source": [
        "# PART VII: Evaluating your model\n",
        "\n",
        "<img src=\"https://cdn.prod.website-files.com/6391b5b30283a58cafb3bb77/66645273e7266bd35af722ca_how-to-evaluate-ai.jpeg\" height=400>"
      ],
      "metadata": {
        "id": "Mp17Q7uQrfll"
      }
    },
    {
      "cell_type": "markdown",
      "source": [
        "## Accuracy"
      ],
      "metadata": {
        "id": "zc11i9LvsL5L"
      }
    },
    {
      "cell_type": "markdown",
      "source": [
        "Accuracy is a fundamental metric used to evaluate the performance of a machine learning model. It is defined as the proportion of correct predictions made by the model out of all predictions. Mathematically, it can be expressed as:\n",
        "\n",
        "$$\n",
        "\\text{Accuracy} = \\frac{\\text{Number of Correct Predictions}}{\\text{Total Number of Predictions}}\n",
        "$$\n",
        "\n",
        "For classification tasks, accuracy is particularly useful when the dataset is balanced, meaning each class has roughly the same number of samples. It provides a simple way to gauge how well the model is performing."
      ],
      "metadata": {
        "id": "xx9KpvCxseef"
      }
    },
    {
      "cell_type": "markdown",
      "source": [
        "### Exercise 7A"
      ],
      "metadata": {
        "id": "7LO97LqItG1g"
      }
    },
    {
      "cell_type": "markdown",
      "source": [
        "Use the ```accuracy_score``` function from sklearn to calculate your accuracy.\n",
        "\n",
        "Note: We've already defined our y_true and y_pred as ```y_test``` and ```predictions``` respectively."
      ],
      "metadata": {
        "id": "FLdKIiAytQCs"
      }
    },
    {
      "cell_type": "code",
      "source": [
        "accuracy_score(y_test, predictions)"
      ],
      "metadata": {
        "id": "ziKWAIcSry9z",
        "colab": {
          "base_uri": "https://localhost:8080/"
        },
        "outputId": "a8d4dbdb-652e-494a-e4e1-7c6b75293bce"
      },
      "execution_count": 56,
      "outputs": [
        {
          "output_type": "execute_result",
          "data": {
            "text/plain": [
              "0.7066666666666667"
            ]
          },
          "metadata": {},
          "execution_count": 56
        }
      ]
    },
    {
      "cell_type": "markdown",
      "source": [
        "However, accuracy has limitations, especially with imbalanced datasets where one class dominates. In such cases, a model might achieve high accuracy by simply predicting the majority class, even if it performs poorly on the minority class. To address this, additional metrics like precision, recall, and F1-score are often used for a more nuanced evaluation. We'll explore these in the coming sections"
      ],
      "metadata": {
        "id": "IpPdAMSStDRV"
      }
    },
    {
      "cell_type": "markdown",
      "source": [
        "## Confusion Matrices"
      ],
      "metadata": {
        "id": "krnaNXG_s2kT"
      }
    },
    {
      "cell_type": "markdown",
      "source": [
        "A **Confusion Matrix** is a tabular representation used to evaluate the performance of a classification model. It compares the actual labels with the predicted labels, providing a detailed breakdown of model performance across all classes.\n",
        "\n",
        "The matrix is organized as follows:\n",
        "\n",
        "\\begin{bmatrix}\n",
        "\\text{True Positive (TP)} & \\text{False Positive (FP)} \\\\\n",
        "\\text{False Negative (FN)} & \\text{True Negative (TN)}\n",
        "\\end{bmatrix}\n",
        "\n",
        "1. **True Positive (TP):** The model correctly predicted the positive class.\n",
        "2. **False Positive (FP):** The model incorrectly predicted the positive class when it was actually negative.\n",
        "3. **False Negative (FN):** The model incorrectly predicted the negative class when it was actually positive.\n",
        "4. **True Negative (TN):** The model correctly predicted the negative class.\n",
        "\n",
        "The confusion matrix is particularly valuable for understanding where a model makes errors, such as misclassifying one class as another. It is especially important in imbalanced datasets, where accuracy alone might be misleading. We can also calculate a series of other metrics from our confusion matrix."
      ],
      "metadata": {
        "id": "IV9Qtl1quEab"
      }
    },
    {
      "cell_type": "markdown",
      "source": [
        "### Exercise 7B"
      ],
      "metadata": {
        "id": "IAUc_KwBuK-r"
      }
    },
    {
      "cell_type": "markdown",
      "source": [
        "Use the ```confusion_matrix``` function from sklearn to create your matrix. You can then use ```ConfusionMatrixDisplay``` and matplotlib to plot your confusion matrix!\n",
        "\n",
        "Note: We've already defined our y_true and y_pred as ```y_test``` and ```predictions``` respectively."
      ],
      "metadata": {
        "id": "C1yCQPumuK-r"
      }
    },
    {
      "cell_type": "code",
      "source": [
        "ConfusionMatrixDisplay(confusion_matrix(y_test, predictions)).plot()\n",
        "# plt.show()"
      ],
      "metadata": {
        "id": "aISM0IituK-s",
        "colab": {
          "base_uri": "https://localhost:8080/",
          "height": 472
        },
        "outputId": "7640d9f8-4c5d-487f-fdd9-9c65e165a445"
      },
      "execution_count": 79,
      "outputs": [
        {
          "output_type": "execute_result",
          "data": {
            "text/plain": [
              "<sklearn.metrics._plot.confusion_matrix.ConfusionMatrixDisplay at 0x79f952549b10>"
            ]
          },
          "metadata": {},
          "execution_count": 79
        },
        {
          "output_type": "display_data",
          "data": {
            "text/plain": [
              "<Figure size 640x480 with 2 Axes>"
            ],
            "image/png": "[encoded data removed]"
          },
          "metadata": {}
        }
      ]
    },
    {
      "cell_type": "markdown",
      "source": [
        "How many of each True Positives, True Negatives, False Positives and False Negatives are you seeing?"
      ],
      "metadata": {
        "id": "3U1U5m04tpQA"
      }
    },
    {
      "cell_type": "code",
      "source": [
        "#@title\n",
        "\n",
        "reflection = \"\" # @param {type:\"string\"}"
      ],
      "metadata": {
        "cellView": "form",
        "id": "LmABYlmutpQA"
      },
      "execution_count": null,
      "outputs": []
    },
    {
      "cell_type": "markdown",
      "source": [
        "## Recall and Precision"
      ],
      "metadata": {
        "id": "Bs6CiTWbsNwm"
      }
    },
    {
      "cell_type": "markdown",
      "source": [
        "**Recall** and **Precision** are key metrics derived from the confusion matrix that measure different aspects of a model's performance.\n",
        "\n",
        "\n",
        "---\n",
        "\n",
        "\n",
        "**Recall (Sensitivity or True Positive Rate)**\n",
        "\n",
        "Recall quantifies the ability of the model to correctly identify all positive instances. It is defined as:\n",
        "\n",
        "$$\n",
        "\\text{Recall} = \\frac{\\text{True Positives (TP)}}{\\text{True Positives (TP)} + \\text{False Negatives (FN)}}\n",
        "$$\n",
        "\n",
        "High recall indicates that the model correctly captures most of the actual positives but may also include false positives.\n",
        "\n",
        "\n",
        "---\n",
        "\n",
        "\n",
        "**Precision (Positive Predictive Value)**\n",
        "Precision measures how many of the positive predictions made by the model are actually correct. It is defined as:\n",
        "\n",
        "$$\n",
        "\\text{Precision} = \\frac{\\text{True Positives (TP)}}{\\text{True Positives (TP)} + \\text{False Positives (FP)}}\n",
        "$$\n",
        "\n",
        "High precision implies the model's positive predictions are highly accurate but may miss some true positives.\n",
        "\n",
        "\n",
        "---\n",
        "\n",
        "\n",
        "**The Precision-Recall Trade-Off**\n",
        "There is an inherent trade-off between precision and recall. Improving one often comes at the cost of the other:\n",
        "\n",
        "- **High Recall, Low Precision:** The model captures most positives but also includes many false positives.\n",
        "- **High Precision, Low Recall:** The model is very confident in its positive predictions but misses many true positives.\n",
        "\n",
        "This trade-off is often controlled by the decision threshold for classifying instances as positive. Adjusting this threshold allows you to balance recall and precision based on the problem's requirements."
      ],
      "metadata": {
        "id": "jFIiGFlevZLW"
      }
    },
    {
      "cell_type": "markdown",
      "source": [
        "### Exercise 7C"
      ],
      "metadata": {
        "id": "4WA_GTw7v_Yo"
      }
    },
    {
      "cell_type": "markdown",
      "source": [
        "Use the ```recall_score``` and ```precision_score``` functions from sklearn to generate your metrics\n",
        "\n",
        "Note: We've already defined our y_true and y_pred as ```y_test``` and ```predictions``` respectively."
      ],
      "metadata": {
        "id": "wsJw4C-yv_Yp"
      }
    },
    {
      "cell_type": "code",
      "source": [
        "print(accuracy_score(y_test, predictions))\n",
        "print(recall_score(y_test, predictions))\n",
        "print(precision_score(y_test, predictions))"
      ],
      "metadata": {
        "id": "YcsIv9Wvv_Yp",
        "colab": {
          "base_uri": "https://localhost:8080/"
        },
        "outputId": "4b797e3b-aa3e-4f83-91c1-d8317b0a491c"
      },
      "execution_count": 73,
      "outputs": [
        {
          "output_type": "stream",
          "name": "stdout",
          "text": [
            "0.7066666666666667\n",
            "0.7096774193548387\n",
            "0.7189542483660131\n"
          ]
        }
      ]
    },
    {
      "cell_type": "markdown",
      "source": [
        "Take your best attempt at explaining what these numbers mean in the context of your chosen project."
      ],
      "metadata": {
        "id": "ZeUwO1uov_Yq"
      }
    },
    {
      "cell_type": "code",
      "source": [
        "#@title\n",
        "\n",
        "reflection = \"\" # @param {type:\"string\"}"
      ],
      "metadata": {
        "cellView": "form",
        "id": "EVUqL4oWv_Yq"
      },
      "execution_count": null,
      "outputs": []
    },
    {
      "cell_type": "markdown",
      "source": [
        "## F1 Score"
      ],
      "metadata": {
        "id": "vOdu9kSwsQOk"
      }
    },
    {
      "cell_type": "code",
      "source": [
        "N"
      ],
      "metadata": {
        "id": "OlE72ADOktjJ"
      },
      "execution_count": null,
      "outputs": []
    },
    {
      "cell_type": "markdown",
      "source": [
        "The **F1 Score** is a performance metric that combines **precision** and **recall** into a single value, providing a balanced measure for models where both metrics are important. It is especially useful when dealing with imbalanced datasets, where accuracy might be misleading.\n",
        "\n",
        "\n",
        "---\n",
        "\n",
        "\n",
        "**Formula for F1 Score**\n",
        "The F1 Score is the harmonic mean of precision and recall, defined as:\n",
        "\n",
        "$$\n",
        "\\text{F1 Score} = 2 \\cdot \\frac{\\text{Precision} \\cdot \\text{Recall}}{\\text{Precision} + \\text{Recall}}\n",
        "$$\n",
        "\n",
        "\n",
        "---\n",
        "\n",
        "\n",
        "**Interpretation**\n",
        "- A **high F1 Score** indicates that the model achieves both high precision and high recall, effectively balancing the trade-off between the two.\n",
        "- A **low F1 Score** suggests that the model struggles with either precision, recall, or both.\n",
        "\n",
        "\n",
        "---\n",
        "\n",
        "\n",
        "**When to Use F1 Score**\n",
        "The F1 Score is most valuable in scenarios where:\n",
        "1. The cost of false positives and false negatives is significant.\n",
        "2. The dataset is imbalanced, and accuracy alone does not provide meaningful insights into model performance.\n",
        "\n",
        "By focusing on both precision and recall, the F1 Score ensures that a model's predictions are not only accurate but also comprehensive."
      ],
      "metadata": {
        "id": "rRFsmRppwurt"
      }
    },
    {
      "cell_type": "markdown",
      "source": [
        "### Exercise 7D"
      ],
      "metadata": {
        "id": "XdNtUvLvw9Hc"
      }
    },
    {
      "cell_type": "markdown",
      "source": [
        "Use the ```f1_score``` function from sklearn to generate your F1 Score.\n",
        "\n",
        "Note: We've already defined our y_true and y_pred as ```y_test``` and ```predictions``` respectively."
      ],
      "metadata": {
        "id": "Jz5Z4f4mw9Hc"
      }
    },
    {
      "cell_type": "code",
      "source": [
        "f1_score(y_test, predictions)"
      ],
      "metadata": {
        "id": "zvLIYxT0w9Hd",
        "colab": {
          "base_uri": "https://localhost:8080/"
        },
        "outputId": "f9d8f5e5-9423-43cc-9543-4ece560f71f7"
      },
      "execution_count": 74,
      "outputs": [
        {
          "output_type": "execute_result",
          "data": {
            "text/plain": [
              "0.7142857142857143"
            ]
          },
          "metadata": {},
          "execution_count": 74
        }
      ]
    },
    {
      "cell_type": "markdown",
      "source": [
        "Take your best attempt at explaining what these numbers mean in the context of your chosen project."
      ],
      "metadata": {
        "id": "molJ9Gukw9Hd"
      }
    },
    {
      "cell_type": "code",
      "source": [
        "#@title\n",
        "\n",
        "reflection = \"\" # @param {type:\"string\"}"
      ],
      "metadata": {
        "cellView": "form",
        "id": "s73dVe-sw9Hd"
      },
      "execution_count": null,
      "outputs": []
    },
    {
      "cell_type": "markdown",
      "source": [
        "## ROC / AUC"
      ],
      "metadata": {
        "id": "JqLJMTRSsRww"
      }
    },
    {
      "cell_type": "markdown",
      "source": [
        "**ROC (Receiver Operating Characteristic)** and **AUC (Area Under the Curve)** are tools used to evaluate the performance of a classification model, particularly in binary classification tasks.\n",
        "\n",
        "**ROC Curve**\n",
        "The ROC curve is a graphical representation of the trade-off between the **True Positive Rate (TPR)** and the **False Positive Rate (FPR)** at various classification thresholds.\n",
        "[link text](https://)\n",
        "- **True Positive Rate (Recall):**\n",
        "  \\[\n",
        "  \\text{TPR} = \\frac{\\text{True Positives (TP)}}{\\text{True Positives (TP)} + \\text{False Negatives (FN)}}\n",
        "  \\]\n",
        "\n",
        "- **False Positive Rate:**\n",
        "  \\[\n",
        "  \\text{FPR} = \\frac{\\text{False Positives (FP)}}{\\text{False Positives (FP)} + \\text{True Negatives (TN)}}\n",
        "  \\]\n",
        "\n",
        "The ROC curve plots **TPR** (y-axis) against **FPR** (x-axis) for different thresholds. A model with a better discriminatory ability will have a curve closer to the top-left corner.\n",
        "\n",
        "**AUC (Area Under the Curve)**\n",
        "The AUC is the area under the ROC curve and provides a single value summarizing the model's performance:\n",
        "\n",
        "- **AUC = 1.0:** Perfect model.\n",
        "- **AUC = 0.5:** No discriminatory power (equivalent to random guessing).\n",
        "- **AUC < 0.5:** Worse than random guessing.\n",
        "\n",
        "**Interpretation**\n",
        "- A higher AUC indicates that the model is better at distinguishing between the positive and negative classes across all thresholds.\n",
        "- The ROC-AUC metric is threshold-independent, making it a robust measure for comparing models, especially in datasets with imbalanced classes.\n",
        "\n",
        "By analyzing the ROC curve and AUC, you can assess how well your model differentiates between classes, providing deeper insights beyond accuracy alone."
      ],
      "metadata": {
        "id": "fZJZ7SwZxqN_"
      }
    },
    {
      "cell_type": "code",
      "source": [
        "# Compute the ROC curve\n",
        "fpr, tpr, thresholds = roc_curve(y_test, predictions)\n",
        "\n",
        "# Calculate the AUC\n",
        "roc_auc = auc(fpr, tpr)\n",
        "\n",
        "# Plot the ROC curve\n",
        "print\n",
        "plt.figure()\n",
        "plt.plot(fpr, tpr, color=\"blue\", lw=2, label=f\"ROC Curve (AUC = {roc_auc:.2f})\")\n",
        "plt.plot([0, 1], [0, 1], color=\"gray\", linestyle=\"--\", lw=2, label=\"Random Guessing\")\n",
        "plt.xlabel(\"False Positive Rate\")\n",
        "plt.ylabel(\"True Positive Rate\")\n",
        "plt.title(\"Receiver Operating Characteristic (ROC) Curve\")\n",
        "plt.legend(loc=\"lower right\")\n",
        "plt.show()"
      ],
      "metadata": {
        "id": "QHk8SMrvx8Ue",
        "colab": {
          "base_uri": "https://localhost:8080/",
          "height": 472
        },
        "outputId": "92b1c2ad-5335-4ac0-b314-da0c41cdc724"
      },
      "execution_count": 81,
      "outputs": [
        {
          "output_type": "display_data",
          "data": {
            "text/plain": [
              "<Figure size 640x480 with 1 Axes>"
            ],
            "image/png": "[encoded data removed]"
          },
          "metadata": {}
        }
      ]
    },
    {
      "cell_type": "markdown",
      "source": [
        "How well did your model perform? What does this mean?"
      ],
      "metadata": {
        "id": "ERDuSmBOtugJ"
      }
    },
    {
      "cell_type": "code",
      "source": [
        "#@title\n",
        "\n",
        "reflection = \"\" # @param {type:\"string\"}"
      ],
      "metadata": {
        "cellView": "form",
        "id": "jqTQpoxUtugJ"
      },
      "execution_count": null,
      "outputs": []
    },
    {
      "cell_type": "markdown",
      "source": [
        "# PART VIII: Day 2 Homework"
      ],
      "metadata": {
        "id": "9hz2euwC-njS"
      }
    },
    {
      "cell_type": "markdown",
      "source": [
        "\n",
        "1. Explore other baseline models to expand your understanding and improve your approach. Collaborate with your mentor and utilize our [Baseline Model Task Sheet](https://docs.google.com/document/d/12RvGg0MN3PMe9GJNQ3xwcqx9px3vqEYn1Cu1Nwv_1C8/edit?usp=sharing) to stay organized and on track throughout the process.\n",
        "\n",
        "2. Return to your project notebook and implement these steps using your own dataset. Remember that variable names and structures may differ, so be prepared to adapt your code as needed.\n",
        "\n",
        "3. Take time to reflect on your experience. What challenges did you face? What didn’t work, and what worked well? Don’t hesitate to seek guidance from your mentor or attend Open Labs—boilerplate code often requires adjustments for unique datasets! Embrace the challenges; the true beauty of coding lies in solving problems and the immense satisfaction of conquering errors!"
      ],
      "metadata": {
        "id": "26uh97Ut-njT"
      }
    },
    {
      "cell_type": "markdown",
      "metadata": {
        "id": "qfwHvs8_-njT"
      },
      "source": [
        "### 🎁 Wrapping Up Day 2\n",
        "\n",
        "🎉 **Congratulations on Building Your First Machine Learning Model!** 🎉  \n",
        "Amazing work! You’ve taken a significant step in your journey by creating your very first machine learning model. This is no small feat—it’s the foundation upon which incredible projects are built. 🚀 As you advance your skills and bring your own ideas to life, remember to revisit these notebooks as valuable references to guide your progress.\n",
        "\n",
        "But why stop here? The world of machine learning is vast, and there’s so much more to explore. Below, you’ll find additional resources and optional enhancements to take your projects to the next level. 🌟\n",
        "\n",
        "---\n",
        "\n",
        "### **Expand Your Horizons with Optional Enhancements**\n",
        "\n",
        "- **Dive Into Advanced Models**  \n",
        "   Ready to elevate your projects further? Explore advanced models like Neural Networks and use advanced Python frameworks like PyTorch or Tensorflow to unlock more predictive power and uncover deeper insights.\n",
        "\n",
        "- **Unlock the Power of Ensemble Learning**  \n",
        "   Supercharge your projects with cutting-edge ensemble learning techniques\n",
        "   \n",
        "   👉 [Ensemble Learning](https://colab.research.google.com/drive/1wNF2sob8CJWaVqGbe4vZQt1EaoPneKHH?usp=drive_link)\n",
        "\n",
        "---\n",
        "\n",
        "### 🌟 **What’s Next?**\n",
        "- **Experimentation**: Don’t be afraid to try new techniques and push the boundaries of what your model can do.\n",
        "- **Iteration**: Refine your skills by iterating on your projects, optimizing performance, and exploring new datasets.  \n",
        "- **Collaboration**: Share your work with mentors, peers, or in Open Labs to gain insights and fresh perspectives.\n",
        "\n",
        "Every model you build and every enhancement you implement is a step closer to mastery. Keep learning, keep growing, and keep building—your journey has just begun! 🚀"
      ]
    },
    {
      "cell_type": "code",
      "source": [],
      "metadata": {
        "id": "mxJkGWK576CP"
      },
      "execution_count": null,
      "outputs": []
    }
  ]
}